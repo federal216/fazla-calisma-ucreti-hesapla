{
 "cells": [
  {
   "cell_type": "code",
   "execution_count": 16,
   "metadata": {},
   "outputs": [
    {
     "name": "stdout",
     "output_type": "stream",
     "text": [
      "şirkette ayda kaç saat çalişiyorsunuz?41\n",
      "guncel maasiniz 15050\n"
     ]
    }
   ],
   "source": [
    "saat = int(input(\"şirkette ayda kaç saat çalişiyorsunuz?\"))\n",
    "saat = int(saat)\n",
    "saatlik_ucret = 50 \n",
    "if saat <= 40:\n",
    "        maas = 15000\n",
    "else:\n",
    "     maas = 15000 + saatlik_ucret*(saat-40)\n",
    "print(\"guncel maasiniz {}\".format(maas))\n"
   ]
  },
  {
   "cell_type": "code",
   "execution_count": null,
   "metadata": {},
   "outputs": [],
   "source": [
    "\n",
    "        "
   ]
  },
  {
   "cell_type": "code",
   "execution_count": null,
   "metadata": {},
   "outputs": [],
   "source": [
    "\n",
    "\n"
   ]
  },
  {
   "cell_type": "code",
   "execution_count": null,
   "metadata": {},
   "outputs": [],
   "source": []
  },
  {
   "cell_type": "code",
   "execution_count": null,
   "metadata": {},
   "outputs": [],
   "source": []
  }
 ],
 "metadata": {
  "kernelspec": {
   "display_name": "Python 3",
   "language": "python",
   "name": "python3"
  },
  "language_info": {
   "codemirror_mode": {
    "name": "ipython",
    "version": 3
   },
   "file_extension": ".py",
   "mimetype": "text/x-python",
   "name": "python",
   "nbconvert_exporter": "python",
   "pygments_lexer": "ipython3",
   "version": "3.8.5"
  }
 },
 "nbformat": 4,
 "nbformat_minor": 4
}
